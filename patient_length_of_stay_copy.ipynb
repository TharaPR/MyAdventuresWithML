{
 "cells": [
  {
   "cell_type": "code",
   "execution_count": 1,
   "metadata": {},
   "outputs": [],
   "source": [
    "import pandas as pd\n",
    "import numpy as np\n",
    "import random\n",
    "import matplotlib as mpl\n",
    "import matplotlib.pyplot as plt\n",
    "%matplotlib inline\n",
    "\n",
    "from sklearn.preprocessing import LabelEncoder\n",
    "from sklearn.ensemble import RandomForestClassifier\n",
    "from sklearn.preprocessing import OneHotEncoder\n",
    "from sklearn.svm import SVC\n",
    "\n",
    "from sklearn.model_selection import train_test_split\n",
    "\n",
    "from sklearn import metrics\n",
    "from sklearn.metrics import accuracy_score\n",
    "\n",
    "pd.options.mode.chained_assignment = None"
   ]
  },
  {
   "cell_type": "code",
   "execution_count": 2,
   "metadata": {},
   "outputs": [],
   "source": [
    "# Read the files\n",
    "train = pd.read_csv(\"input/train.csv\")\n",
    "test = pd.read_csv(\"input/test.csv\")\n",
    "\n",
    "# Merge train and test\n",
    "train['Type'] = 1\n",
    "test['Type'] = 0\n",
    "\n",
    "full_data = pd.concat([train, test], axis=0)"
   ]
  },
  {
   "cell_type": "code",
   "execution_count": 3,
   "metadata": {},
   "outputs": [
    {
     "data": {
      "text/plain": [
       "Index(['case_id', 'Hospital_code', 'Hospital_type_code', 'City_Code_Hospital',\n",
       "       'Hospital_region_code', 'Available Extra Rooms in Hospital',\n",
       "       'Department', 'Ward_Type', 'Ward_Facility_Code', 'Bed Grade',\n",
       "       'patientid', 'City_Code_Patient', 'Type of Admission',\n",
       "       'Severity of Illness', 'Visitors with Patient', 'Age',\n",
       "       'Admission_Deposit', 'Stay', 'Type'],\n",
       "      dtype='object')"
      ]
     },
     "execution_count": 3,
     "metadata": {},
     "output_type": "execute_result"
    }
   ],
   "source": [
    "full_data.columns"
   ]
  },
  {
   "cell_type": "markdown",
   "metadata": {},
   "source": [
    "Review the data"
   ]
  },
  {
   "cell_type": "code",
   "execution_count": 4,
   "metadata": {},
   "outputs": [
    {
     "data": {
      "text/html": [
       "<div>\n",
       "<style scoped>\n",
       "    .dataframe tbody tr th:only-of-type {\n",
       "        vertical-align: middle;\n",
       "    }\n",
       "\n",
       "    .dataframe tbody tr th {\n",
       "        vertical-align: top;\n",
       "    }\n",
       "\n",
       "    .dataframe thead th {\n",
       "        text-align: right;\n",
       "    }\n",
       "</style>\n",
       "<table border=\"1\" class=\"dataframe\">\n",
       "  <thead>\n",
       "    <tr style=\"text-align: right;\">\n",
       "      <th></th>\n",
       "      <th>case_id</th>\n",
       "      <th>Hospital_code</th>\n",
       "      <th>Hospital_type_code</th>\n",
       "      <th>City_Code_Hospital</th>\n",
       "      <th>Hospital_region_code</th>\n",
       "      <th>Available Extra Rooms in Hospital</th>\n",
       "      <th>Department</th>\n",
       "      <th>Ward_Type</th>\n",
       "      <th>Ward_Facility_Code</th>\n",
       "      <th>Bed Grade</th>\n",
       "      <th>patientid</th>\n",
       "      <th>City_Code_Patient</th>\n",
       "      <th>Type of Admission</th>\n",
       "      <th>Severity of Illness</th>\n",
       "      <th>Visitors with Patient</th>\n",
       "      <th>Age</th>\n",
       "      <th>Admission_Deposit</th>\n",
       "      <th>Stay</th>\n",
       "      <th>Type</th>\n",
       "    </tr>\n",
       "  </thead>\n",
       "  <tbody>\n",
       "    <tr>\n",
       "      <th>0</th>\n",
       "      <td>1</td>\n",
       "      <td>8</td>\n",
       "      <td>c</td>\n",
       "      <td>3</td>\n",
       "      <td>Z</td>\n",
       "      <td>3</td>\n",
       "      <td>radiotherapy</td>\n",
       "      <td>R</td>\n",
       "      <td>F</td>\n",
       "      <td>2.0</td>\n",
       "      <td>31397</td>\n",
       "      <td>7.0</td>\n",
       "      <td>Emergency</td>\n",
       "      <td>Extreme</td>\n",
       "      <td>2</td>\n",
       "      <td>51-60</td>\n",
       "      <td>4911.0</td>\n",
       "      <td>0-10</td>\n",
       "      <td>1</td>\n",
       "    </tr>\n",
       "    <tr>\n",
       "      <th>1</th>\n",
       "      <td>2</td>\n",
       "      <td>2</td>\n",
       "      <td>c</td>\n",
       "      <td>5</td>\n",
       "      <td>Z</td>\n",
       "      <td>2</td>\n",
       "      <td>radiotherapy</td>\n",
       "      <td>S</td>\n",
       "      <td>F</td>\n",
       "      <td>2.0</td>\n",
       "      <td>31397</td>\n",
       "      <td>7.0</td>\n",
       "      <td>Trauma</td>\n",
       "      <td>Extreme</td>\n",
       "      <td>2</td>\n",
       "      <td>51-60</td>\n",
       "      <td>5954.0</td>\n",
       "      <td>41-50</td>\n",
       "      <td>1</td>\n",
       "    </tr>\n",
       "    <tr>\n",
       "      <th>2</th>\n",
       "      <td>3</td>\n",
       "      <td>10</td>\n",
       "      <td>e</td>\n",
       "      <td>1</td>\n",
       "      <td>X</td>\n",
       "      <td>2</td>\n",
       "      <td>anesthesia</td>\n",
       "      <td>S</td>\n",
       "      <td>E</td>\n",
       "      <td>2.0</td>\n",
       "      <td>31397</td>\n",
       "      <td>7.0</td>\n",
       "      <td>Trauma</td>\n",
       "      <td>Extreme</td>\n",
       "      <td>2</td>\n",
       "      <td>51-60</td>\n",
       "      <td>4745.0</td>\n",
       "      <td>31-40</td>\n",
       "      <td>1</td>\n",
       "    </tr>\n",
       "    <tr>\n",
       "      <th>3</th>\n",
       "      <td>4</td>\n",
       "      <td>26</td>\n",
       "      <td>b</td>\n",
       "      <td>2</td>\n",
       "      <td>Y</td>\n",
       "      <td>2</td>\n",
       "      <td>radiotherapy</td>\n",
       "      <td>R</td>\n",
       "      <td>D</td>\n",
       "      <td>2.0</td>\n",
       "      <td>31397</td>\n",
       "      <td>7.0</td>\n",
       "      <td>Trauma</td>\n",
       "      <td>Extreme</td>\n",
       "      <td>2</td>\n",
       "      <td>51-60</td>\n",
       "      <td>7272.0</td>\n",
       "      <td>41-50</td>\n",
       "      <td>1</td>\n",
       "    </tr>\n",
       "    <tr>\n",
       "      <th>4</th>\n",
       "      <td>5</td>\n",
       "      <td>26</td>\n",
       "      <td>b</td>\n",
       "      <td>2</td>\n",
       "      <td>Y</td>\n",
       "      <td>2</td>\n",
       "      <td>radiotherapy</td>\n",
       "      <td>S</td>\n",
       "      <td>D</td>\n",
       "      <td>2.0</td>\n",
       "      <td>31397</td>\n",
       "      <td>7.0</td>\n",
       "      <td>Trauma</td>\n",
       "      <td>Extreme</td>\n",
       "      <td>2</td>\n",
       "      <td>51-60</td>\n",
       "      <td>5558.0</td>\n",
       "      <td>41-50</td>\n",
       "      <td>1</td>\n",
       "    </tr>\n",
       "    <tr>\n",
       "      <th>...</th>\n",
       "      <td>...</td>\n",
       "      <td>...</td>\n",
       "      <td>...</td>\n",
       "      <td>...</td>\n",
       "      <td>...</td>\n",
       "      <td>...</td>\n",
       "      <td>...</td>\n",
       "      <td>...</td>\n",
       "      <td>...</td>\n",
       "      <td>...</td>\n",
       "      <td>...</td>\n",
       "      <td>...</td>\n",
       "      <td>...</td>\n",
       "      <td>...</td>\n",
       "      <td>...</td>\n",
       "      <td>...</td>\n",
       "      <td>...</td>\n",
       "      <td>...</td>\n",
       "      <td>...</td>\n",
       "    </tr>\n",
       "    <tr>\n",
       "      <th>95</th>\n",
       "      <td>96</td>\n",
       "      <td>1</td>\n",
       "      <td>d</td>\n",
       "      <td>10</td>\n",
       "      <td>Y</td>\n",
       "      <td>4</td>\n",
       "      <td>gynecology</td>\n",
       "      <td>Q</td>\n",
       "      <td>B</td>\n",
       "      <td>1.0</td>\n",
       "      <td>21257</td>\n",
       "      <td>7.0</td>\n",
       "      <td>Urgent</td>\n",
       "      <td>Moderate</td>\n",
       "      <td>2</td>\n",
       "      <td>31-40</td>\n",
       "      <td>3750.0</td>\n",
       "      <td>11-20</td>\n",
       "      <td>1</td>\n",
       "    </tr>\n",
       "    <tr>\n",
       "      <th>96</th>\n",
       "      <td>97</td>\n",
       "      <td>13</td>\n",
       "      <td>a</td>\n",
       "      <td>5</td>\n",
       "      <td>Z</td>\n",
       "      <td>3</td>\n",
       "      <td>gynecology</td>\n",
       "      <td>R</td>\n",
       "      <td>F</td>\n",
       "      <td>2.0</td>\n",
       "      <td>21257</td>\n",
       "      <td>7.0</td>\n",
       "      <td>Urgent</td>\n",
       "      <td>Moderate</td>\n",
       "      <td>2</td>\n",
       "      <td>31-40</td>\n",
       "      <td>6162.0</td>\n",
       "      <td>21-30</td>\n",
       "      <td>1</td>\n",
       "    </tr>\n",
       "    <tr>\n",
       "      <th>97</th>\n",
       "      <td>98</td>\n",
       "      <td>15</td>\n",
       "      <td>c</td>\n",
       "      <td>5</td>\n",
       "      <td>Z</td>\n",
       "      <td>4</td>\n",
       "      <td>gynecology</td>\n",
       "      <td>R</td>\n",
       "      <td>F</td>\n",
       "      <td>2.0</td>\n",
       "      <td>21257</td>\n",
       "      <td>7.0</td>\n",
       "      <td>Urgent</td>\n",
       "      <td>Moderate</td>\n",
       "      <td>3</td>\n",
       "      <td>31-40</td>\n",
       "      <td>5199.0</td>\n",
       "      <td>21-30</td>\n",
       "      <td>1</td>\n",
       "    </tr>\n",
       "    <tr>\n",
       "      <th>98</th>\n",
       "      <td>99</td>\n",
       "      <td>12</td>\n",
       "      <td>a</td>\n",
       "      <td>9</td>\n",
       "      <td>Y</td>\n",
       "      <td>3</td>\n",
       "      <td>gynecology</td>\n",
       "      <td>R</td>\n",
       "      <td>B</td>\n",
       "      <td>1.0</td>\n",
       "      <td>21257</td>\n",
       "      <td>7.0</td>\n",
       "      <td>Urgent</td>\n",
       "      <td>Moderate</td>\n",
       "      <td>2</td>\n",
       "      <td>31-40</td>\n",
       "      <td>4796.0</td>\n",
       "      <td>21-30</td>\n",
       "      <td>1</td>\n",
       "    </tr>\n",
       "    <tr>\n",
       "      <th>99</th>\n",
       "      <td>100</td>\n",
       "      <td>27</td>\n",
       "      <td>a</td>\n",
       "      <td>7</td>\n",
       "      <td>Y</td>\n",
       "      <td>6</td>\n",
       "      <td>anesthesia</td>\n",
       "      <td>P</td>\n",
       "      <td>C</td>\n",
       "      <td>3.0</td>\n",
       "      <td>48585</td>\n",
       "      <td>8.0</td>\n",
       "      <td>Urgent</td>\n",
       "      <td>Moderate</td>\n",
       "      <td>3</td>\n",
       "      <td>61-70</td>\n",
       "      <td>5219.0</td>\n",
       "      <td>11-20</td>\n",
       "      <td>1</td>\n",
       "    </tr>\n",
       "  </tbody>\n",
       "</table>\n",
       "<p>100 rows × 19 columns</p>\n",
       "</div>"
      ],
      "text/plain": [
       "    case_id  Hospital_code Hospital_type_code  City_Code_Hospital  \\\n",
       "0         1              8                  c                   3   \n",
       "1         2              2                  c                   5   \n",
       "2         3             10                  e                   1   \n",
       "3         4             26                  b                   2   \n",
       "4         5             26                  b                   2   \n",
       "..      ...            ...                ...                 ...   \n",
       "95       96              1                  d                  10   \n",
       "96       97             13                  a                   5   \n",
       "97       98             15                  c                   5   \n",
       "98       99             12                  a                   9   \n",
       "99      100             27                  a                   7   \n",
       "\n",
       "   Hospital_region_code  Available Extra Rooms in Hospital    Department  \\\n",
       "0                     Z                                  3  radiotherapy   \n",
       "1                     Z                                  2  radiotherapy   \n",
       "2                     X                                  2    anesthesia   \n",
       "3                     Y                                  2  radiotherapy   \n",
       "4                     Y                                  2  radiotherapy   \n",
       "..                  ...                                ...           ...   \n",
       "95                    Y                                  4    gynecology   \n",
       "96                    Z                                  3    gynecology   \n",
       "97                    Z                                  4    gynecology   \n",
       "98                    Y                                  3    gynecology   \n",
       "99                    Y                                  6    anesthesia   \n",
       "\n",
       "   Ward_Type Ward_Facility_Code  Bed Grade  patientid  City_Code_Patient  \\\n",
       "0          R                  F        2.0      31397                7.0   \n",
       "1          S                  F        2.0      31397                7.0   \n",
       "2          S                  E        2.0      31397                7.0   \n",
       "3          R                  D        2.0      31397                7.0   \n",
       "4          S                  D        2.0      31397                7.0   \n",
       "..       ...                ...        ...        ...                ...   \n",
       "95         Q                  B        1.0      21257                7.0   \n",
       "96         R                  F        2.0      21257                7.0   \n",
       "97         R                  F        2.0      21257                7.0   \n",
       "98         R                  B        1.0      21257                7.0   \n",
       "99         P                  C        3.0      48585                8.0   \n",
       "\n",
       "   Type of Admission Severity of Illness  Visitors with Patient    Age  \\\n",
       "0          Emergency             Extreme                      2  51-60   \n",
       "1             Trauma             Extreme                      2  51-60   \n",
       "2             Trauma             Extreme                      2  51-60   \n",
       "3             Trauma             Extreme                      2  51-60   \n",
       "4             Trauma             Extreme                      2  51-60   \n",
       "..               ...                 ...                    ...    ...   \n",
       "95            Urgent            Moderate                      2  31-40   \n",
       "96            Urgent            Moderate                      2  31-40   \n",
       "97            Urgent            Moderate                      3  31-40   \n",
       "98            Urgent            Moderate                      2  31-40   \n",
       "99            Urgent            Moderate                      3  61-70   \n",
       "\n",
       "    Admission_Deposit   Stay  Type  \n",
       "0              4911.0   0-10     1  \n",
       "1              5954.0  41-50     1  \n",
       "2              4745.0  31-40     1  \n",
       "3              7272.0  41-50     1  \n",
       "4              5558.0  41-50     1  \n",
       "..                ...    ...   ...  \n",
       "95             3750.0  11-20     1  \n",
       "96             6162.0  21-30     1  \n",
       "97             5199.0  21-30     1  \n",
       "98             4796.0  21-30     1  \n",
       "99             5219.0  11-20     1  \n",
       "\n",
       "[100 rows x 19 columns]"
      ]
     },
     "execution_count": 4,
     "metadata": {},
     "output_type": "execute_result"
    }
   ],
   "source": [
    "full_data[:100]"
   ]
  },
  {
   "cell_type": "code",
   "execution_count": 5,
   "metadata": {},
   "outputs": [
    {
     "name": "stdout",
     "output_type": "stream",
     "text": [
      "<class 'pandas.core.frame.DataFrame'>\n",
      "Int64Index: 455495 entries, 0 to 137056\n",
      "Data columns (total 19 columns):\n",
      " #   Column                             Non-Null Count   Dtype  \n",
      "---  ------                             --------------   -----  \n",
      " 0   case_id                            455495 non-null  int64  \n",
      " 1   Hospital_code                      455495 non-null  int64  \n",
      " 2   Hospital_type_code                 455495 non-null  object \n",
      " 3   City_Code_Hospital                 455495 non-null  int64  \n",
      " 4   Hospital_region_code               455495 non-null  object \n",
      " 5   Available Extra Rooms in Hospital  455495 non-null  int64  \n",
      " 6   Department                         455495 non-null  object \n",
      " 7   Ward_Type                          455495 non-null  object \n",
      " 8   Ward_Facility_Code                 455495 non-null  object \n",
      " 9   Bed Grade                          455347 non-null  float64\n",
      " 10  patientid                          455495 non-null  int64  \n",
      " 11  City_Code_Patient                  448806 non-null  float64\n",
      " 12  Type of Admission                  455495 non-null  object \n",
      " 13  Severity of Illness                455495 non-null  object \n",
      " 14  Visitors with Patient              455495 non-null  int64  \n",
      " 15  Age                                455495 non-null  object \n",
      " 16  Admission_Deposit                  455495 non-null  float64\n",
      " 17  Stay                               318438 non-null  object \n",
      " 18  Type                               455495 non-null  int64  \n",
      "dtypes: float64(3), int64(7), object(9)\n",
      "memory usage: 69.5+ MB\n"
     ]
    }
   ],
   "source": [
    "full_data.info()"
   ]
  },
  {
   "cell_type": "code",
   "execution_count": 6,
   "metadata": {},
   "outputs": [
    {
     "data": {
      "text/plain": [
       "Hospital_code\n",
       "1      21634\n",
       "2      19518\n",
       "3      34750\n",
       "4       4902\n",
       "5      24495\n",
       "6     100081\n",
       "7       5496\n",
       "8      18193\n",
       "9      54080\n",
       "10     41808\n",
       "11     85502\n",
       "12     51587\n",
       "13     23385\n",
       "14     84103\n",
       "15     46047\n",
       "16     15298\n",
       "17     23719\n",
       "18     17051\n",
       "19     96254\n",
       "20      4975\n",
       "21     33529\n",
       "22     16468\n",
       "23    129890\n",
       "24     37009\n",
       "25     40926\n",
       "26    156536\n",
       "27     65667\n",
       "28     74870\n",
       "29     45236\n",
       "30     24870\n",
       "31     17700\n",
       "32     40247\n",
       "Name: Available Extra Rooms in Hospital, dtype: int64"
      ]
     },
     "execution_count": 6,
     "metadata": {},
     "output_type": "execute_result"
    }
   ],
   "source": [
    "full_data.groupby(['Hospital_code'])['Available Extra Rooms in Hospital'].sum()"
   ]
  },
  {
   "cell_type": "code",
   "execution_count": 7,
   "metadata": {},
   "outputs": [
    {
     "data": {
      "text/plain": [
       "Hospital_code  Department        \n",
       "1              gynecology             6203\n",
       "               radiotherapy            545\n",
       "               anesthesia              438\n",
       "               TB & Chest disease      251\n",
       "               surgery                  23\n",
       "                                     ...  \n",
       "32             gynecology            12243\n",
       "               radiotherapy           1365\n",
       "               anesthesia             1023\n",
       "               TB & Chest disease      578\n",
       "               surgery                  43\n",
       "Name: Department, Length: 160, dtype: int64"
      ]
     },
     "execution_count": 7,
     "metadata": {},
     "output_type": "execute_result"
    }
   ],
   "source": [
    "full_data.groupby(['Hospital_code'])['Department'].value_counts()"
   ]
  },
  {
   "cell_type": "code",
   "execution_count": 8,
   "metadata": {},
   "outputs": [
    {
     "data": {
      "text/plain": [
       "City_Code_Hospital\n",
       "1     1278336\n",
       "2     1547935\n",
       "3      798861\n",
       "4      488675\n",
       "5      458300\n",
       "6     1054386\n",
       "7     1117245\n",
       "9      814236\n",
       "10       7460\n",
       "11     688016\n",
       "13      94104\n",
       "Name: Hospital_code, dtype: int64"
      ]
     },
     "execution_count": 8,
     "metadata": {},
     "output_type": "execute_result"
    }
   ],
   "source": [
    "full_data.groupby(['City_Code_Hospital'])['Hospital_code'].sum()"
   ]
  },
  {
   "cell_type": "code",
   "execution_count": 9,
   "metadata": {},
   "outputs": [
    {
     "data": {
      "text/plain": [
       "Trauma       217672\n",
       "Emergency    168363\n",
       "Urgent        69460\n",
       "Name: Type of Admission, dtype: int64"
      ]
     },
     "execution_count": 9,
     "metadata": {},
     "output_type": "execute_result"
    }
   ],
   "source": [
    "full_data['Type of Admission'].value_counts()"
   ]
  },
  {
   "cell_type": "code",
   "execution_count": 10,
   "metadata": {},
   "outputs": [
    {
     "data": {
      "text/plain": [
       "Moderate    251565\n",
       "Minor       122735\n",
       "Extreme      81195\n",
       "Name: Severity of Illness, dtype: int64"
      ]
     },
     "execution_count": 10,
     "metadata": {},
     "output_type": "execute_result"
    }
   ],
   "source": [
    "full_data['Severity of Illness'].value_counts()"
   ]
  },
  {
   "cell_type": "code",
   "execution_count": 11,
   "metadata": {},
   "outputs": [
    {
     "data": {
      "text/plain": [
       "Type of Admission  Severity of Illness  Stay              \n",
       "Emergency          Extreme              11-20                 4402\n",
       "                                        21-30                 4339\n",
       "                                        31-40                 3336\n",
       "                                        51-60                 2627\n",
       "                                        0-10                  2056\n",
       "                                                              ... \n",
       "Urgent             Moderate             71-80                  736\n",
       "                                        More than 100 Days     376\n",
       "                                        81-90                  342\n",
       "                                        91-100                 178\n",
       "                                        61-70                  151\n",
       "Name: Stay, Length: 99, dtype: int64"
      ]
     },
     "execution_count": 11,
     "metadata": {},
     "output_type": "execute_result"
    }
   ],
   "source": [
    "full_data.groupby(['Type of Admission', 'Severity of Illness'])['Stay'].value_counts()"
   ]
  },
  {
   "cell_type": "code",
   "execution_count": 12,
   "metadata": {},
   "outputs": [
    {
     "data": {
      "text/plain": [
       "City_Code_Hospital\n",
       "1     1278336\n",
       "2     1547935\n",
       "3      798861\n",
       "4      488675\n",
       "5      458300\n",
       "6     1054386\n",
       "7     1117245\n",
       "9      814236\n",
       "10       7460\n",
       "11     688016\n",
       "13      94104\n",
       "Name: Hospital_code, dtype: int64"
      ]
     },
     "execution_count": 12,
     "metadata": {},
     "output_type": "execute_result"
    }
   ],
   "source": [
    "full_data.groupby(['City_Code_Hospital'])['Hospital_code'].sum()"
   ]
  },
  {
   "cell_type": "code",
   "execution_count": 13,
   "metadata": {},
   "outputs": [
    {
     "data": {
      "text/plain": [
       "array(['0-10', '41-50', '31-40', '11-20', '51-60', '21-30', '71-80',\n",
       "       'More than 100 Days', '81-90', '61-70', '91-100', nan],\n",
       "      dtype=object)"
      ]
     },
     "execution_count": 13,
     "metadata": {},
     "output_type": "execute_result"
    }
   ],
   "source": [
    "full_data.Stay.unique()"
   ]
  },
  {
   "cell_type": "code",
   "execution_count": 14,
   "metadata": {},
   "outputs": [
    {
     "data": {
      "text/plain": [
       "case_id                              False\n",
       "Hospital_code                        False\n",
       "Hospital_type_code                   False\n",
       "City_Code_Hospital                   False\n",
       "Hospital_region_code                 False\n",
       "Available Extra Rooms in Hospital    False\n",
       "Department                           False\n",
       "Ward_Type                            False\n",
       "Ward_Facility_Code                   False\n",
       "Bed Grade                             True\n",
       "patientid                            False\n",
       "City_Code_Patient                     True\n",
       "Type of Admission                    False\n",
       "Severity of Illness                  False\n",
       "Visitors with Patient                False\n",
       "Age                                  False\n",
       "Admission_Deposit                    False\n",
       "Stay                                  True\n",
       "Type                                 False\n",
       "dtype: bool"
      ]
     },
     "execution_count": 14,
     "metadata": {},
     "output_type": "execute_result"
    }
   ],
   "source": [
    "full_data.isnull().any()"
   ]
  },
  {
   "cell_type": "code",
   "execution_count": 15,
   "metadata": {},
   "outputs": [
    {
     "data": {
      "text/plain": [
       "case_id                                   0\n",
       "Hospital_code                             0\n",
       "Hospital_type_code                        0\n",
       "City_Code_Hospital                        0\n",
       "Hospital_region_code                      0\n",
       "Available Extra Rooms in Hospital         0\n",
       "Department                                0\n",
       "Ward_Type                                 0\n",
       "Ward_Facility_Code                        0\n",
       "Bed Grade                               148\n",
       "patientid                                 0\n",
       "City_Code_Patient                      6689\n",
       "Type of Admission                         0\n",
       "Severity of Illness                       0\n",
       "Visitors with Patient                     0\n",
       "Age                                       0\n",
       "Admission_Deposit                         0\n",
       "Stay                                 137057\n",
       "Type                                      0\n",
       "dtype: int64"
      ]
     },
     "execution_count": 15,
     "metadata": {},
     "output_type": "execute_result"
    }
   ],
   "source": [
    "full_data.isna().sum()"
   ]
  },
  {
   "cell_type": "code",
   "execution_count": 16,
   "metadata": {},
   "outputs": [
    {
     "data": {
      "text/html": [
       "<div>\n",
       "<style scoped>\n",
       "    .dataframe tbody tr th:only-of-type {\n",
       "        vertical-align: middle;\n",
       "    }\n",
       "\n",
       "    .dataframe tbody tr th {\n",
       "        vertical-align: top;\n",
       "    }\n",
       "\n",
       "    .dataframe thead th {\n",
       "        text-align: right;\n",
       "    }\n",
       "</style>\n",
       "<table border=\"1\" class=\"dataframe\">\n",
       "  <thead>\n",
       "    <tr style=\"text-align: right;\">\n",
       "      <th></th>\n",
       "      <th>case_id</th>\n",
       "      <th>Hospital_code</th>\n",
       "      <th>City_Code_Hospital</th>\n",
       "      <th>Available Extra Rooms in Hospital</th>\n",
       "      <th>Bed Grade</th>\n",
       "      <th>patientid</th>\n",
       "      <th>City_Code_Patient</th>\n",
       "      <th>Visitors with Patient</th>\n",
       "      <th>Admission_Deposit</th>\n",
       "      <th>Type</th>\n",
       "    </tr>\n",
       "  </thead>\n",
       "  <tbody>\n",
       "    <tr>\n",
       "      <th>count</th>\n",
       "      <td>455495.00000</td>\n",
       "      <td>455495.000000</td>\n",
       "      <td>455495.000000</td>\n",
       "      <td>455495.000000</td>\n",
       "      <td>455347.000000</td>\n",
       "      <td>455495.000000</td>\n",
       "      <td>448806.000000</td>\n",
       "      <td>455495.000000</td>\n",
       "      <td>455495.000000</td>\n",
       "      <td>455495.000000</td>\n",
       "    </tr>\n",
       "    <tr>\n",
       "      <th>mean</th>\n",
       "      <td>227748.00000</td>\n",
       "      <td>18.326335</td>\n",
       "      <td>4.767798</td>\n",
       "      <td>3.196140</td>\n",
       "      <td>2.628420</td>\n",
       "      <td>65786.793563</td>\n",
       "      <td>7.249495</td>\n",
       "      <td>3.284229</td>\n",
       "      <td>4877.434022</td>\n",
       "      <td>0.699103</td>\n",
       "    </tr>\n",
       "    <tr>\n",
       "      <th>std</th>\n",
       "      <td>131490.22477</td>\n",
       "      <td>8.634036</td>\n",
       "      <td>3.102450</td>\n",
       "      <td>1.166994</td>\n",
       "      <td>0.871997</td>\n",
       "      <td>37968.830850</td>\n",
       "      <td>4.758941</td>\n",
       "      <td>1.768044</td>\n",
       "      <td>1084.982089</td>\n",
       "      <td>0.458648</td>\n",
       "    </tr>\n",
       "    <tr>\n",
       "      <th>min</th>\n",
       "      <td>1.00000</td>\n",
       "      <td>1.000000</td>\n",
       "      <td>1.000000</td>\n",
       "      <td>0.000000</td>\n",
       "      <td>1.000000</td>\n",
       "      <td>1.000000</td>\n",
       "      <td>1.000000</td>\n",
       "      <td>0.000000</td>\n",
       "      <td>1800.000000</td>\n",
       "      <td>0.000000</td>\n",
       "    </tr>\n",
       "    <tr>\n",
       "      <th>25%</th>\n",
       "      <td>113874.50000</td>\n",
       "      <td>11.000000</td>\n",
       "      <td>2.000000</td>\n",
       "      <td>2.000000</td>\n",
       "      <td>2.000000</td>\n",
       "      <td>32874.000000</td>\n",
       "      <td>4.000000</td>\n",
       "      <td>2.000000</td>\n",
       "      <td>4184.000000</td>\n",
       "      <td>0.000000</td>\n",
       "    </tr>\n",
       "    <tr>\n",
       "      <th>50%</th>\n",
       "      <td>227748.00000</td>\n",
       "      <td>19.000000</td>\n",
       "      <td>5.000000</td>\n",
       "      <td>3.000000</td>\n",
       "      <td>3.000000</td>\n",
       "      <td>65735.000000</td>\n",
       "      <td>8.000000</td>\n",
       "      <td>3.000000</td>\n",
       "      <td>4738.000000</td>\n",
       "      <td>1.000000</td>\n",
       "    </tr>\n",
       "    <tr>\n",
       "      <th>75%</th>\n",
       "      <td>341621.50000</td>\n",
       "      <td>26.000000</td>\n",
       "      <td>7.000000</td>\n",
       "      <td>4.000000</td>\n",
       "      <td>3.000000</td>\n",
       "      <td>98576.500000</td>\n",
       "      <td>8.000000</td>\n",
       "      <td>4.000000</td>\n",
       "      <td>5405.000000</td>\n",
       "      <td>1.000000</td>\n",
       "    </tr>\n",
       "    <tr>\n",
       "      <th>max</th>\n",
       "      <td>455495.00000</td>\n",
       "      <td>32.000000</td>\n",
       "      <td>13.000000</td>\n",
       "      <td>24.000000</td>\n",
       "      <td>4.000000</td>\n",
       "      <td>131624.000000</td>\n",
       "      <td>38.000000</td>\n",
       "      <td>32.000000</td>\n",
       "      <td>11920.000000</td>\n",
       "      <td>1.000000</td>\n",
       "    </tr>\n",
       "  </tbody>\n",
       "</table>\n",
       "</div>"
      ],
      "text/plain": [
       "            case_id  Hospital_code  City_Code_Hospital  \\\n",
       "count  455495.00000  455495.000000       455495.000000   \n",
       "mean   227748.00000      18.326335            4.767798   \n",
       "std    131490.22477       8.634036            3.102450   \n",
       "min         1.00000       1.000000            1.000000   \n",
       "25%    113874.50000      11.000000            2.000000   \n",
       "50%    227748.00000      19.000000            5.000000   \n",
       "75%    341621.50000      26.000000            7.000000   \n",
       "max    455495.00000      32.000000           13.000000   \n",
       "\n",
       "       Available Extra Rooms in Hospital      Bed Grade      patientid  \\\n",
       "count                      455495.000000  455347.000000  455495.000000   \n",
       "mean                            3.196140       2.628420   65786.793563   \n",
       "std                             1.166994       0.871997   37968.830850   \n",
       "min                             0.000000       1.000000       1.000000   \n",
       "25%                             2.000000       2.000000   32874.000000   \n",
       "50%                             3.000000       3.000000   65735.000000   \n",
       "75%                             4.000000       3.000000   98576.500000   \n",
       "max                            24.000000       4.000000  131624.000000   \n",
       "\n",
       "       City_Code_Patient  Visitors with Patient  Admission_Deposit  \\\n",
       "count      448806.000000          455495.000000      455495.000000   \n",
       "mean            7.249495               3.284229        4877.434022   \n",
       "std             4.758941               1.768044        1084.982089   \n",
       "min             1.000000               0.000000        1800.000000   \n",
       "25%             4.000000               2.000000        4184.000000   \n",
       "50%             8.000000               3.000000        4738.000000   \n",
       "75%             8.000000               4.000000        5405.000000   \n",
       "max            38.000000              32.000000       11920.000000   \n",
       "\n",
       "                Type  \n",
       "count  455495.000000  \n",
       "mean        0.699103  \n",
       "std         0.458648  \n",
       "min         0.000000  \n",
       "25%         0.000000  \n",
       "50%         1.000000  \n",
       "75%         1.000000  \n",
       "max         1.000000  "
      ]
     },
     "execution_count": 16,
     "metadata": {},
     "output_type": "execute_result"
    }
   ],
   "source": [
    "full_data.describe()"
   ]
  },
  {
   "cell_type": "code",
   "execution_count": 17,
   "metadata": {},
   "outputs": [
    {
     "data": {
      "image/png": "[encoded data removed]",
      "text/plain": [
       "<Figure size 1080x720 with 4 Axes>"
      ]
     },
     "metadata": {
      "needs_background": "light"
     },
     "output_type": "display_data"
    }
   ],
   "source": [
    "cols = ['Available Extra Rooms in Hospital', 'Bed Grade', 'Visitors with Patient', 'Admission_Deposit']\n",
    "full_data.hist(column=cols, bins=50, figsize=(15,10))\n",
    "plt.show()"
   ]
  },
  {
   "cell_type": "code",
   "execution_count": 18,
   "metadata": {},
   "outputs": [
    {
     "data": {
      "text/html": [
       "<div>\n",
       "<style scoped>\n",
       "    .dataframe tbody tr th:only-of-type {\n",
       "        vertical-align: middle;\n",
       "    }\n",
       "\n",
       "    .dataframe tbody tr th {\n",
       "        vertical-align: top;\n",
       "    }\n",
       "\n",
       "    .dataframe thead th {\n",
       "        text-align: right;\n",
       "    }\n",
       "</style>\n",
       "<table border=\"1\" class=\"dataframe\">\n",
       "  <thead>\n",
       "    <tr style=\"text-align: right;\">\n",
       "      <th></th>\n",
       "      <th>case_id</th>\n",
       "      <th>Hospital_code</th>\n",
       "      <th>City_Code_Hospital</th>\n",
       "      <th>Available Extra Rooms in Hospital</th>\n",
       "      <th>Bed Grade</th>\n",
       "      <th>patientid</th>\n",
       "      <th>City_Code_Patient</th>\n",
       "      <th>Visitors with Patient</th>\n",
       "      <th>Admission_Deposit</th>\n",
       "      <th>Type</th>\n",
       "    </tr>\n",
       "  </thead>\n",
       "  <tbody>\n",
       "    <tr>\n",
       "      <th>case_id</th>\n",
       "      <td>1.000000</td>\n",
       "      <td>-0.024139</td>\n",
       "      <td>-0.008247</td>\n",
       "      <td>0.023878</td>\n",
       "      <td>0.011755</td>\n",
       "      <td>-0.000235</td>\n",
       "      <td>0.038053</td>\n",
       "      <td>0.000818</td>\n",
       "      <td>-0.029820</td>\n",
       "      <td>-0.794402</td>\n",
       "    </tr>\n",
       "    <tr>\n",
       "      <th>Hospital_code</th>\n",
       "      <td>-0.024139</td>\n",
       "      <td>1.000000</td>\n",
       "      <td>0.127760</td>\n",
       "      <td>-0.058744</td>\n",
       "      <td>-0.015001</td>\n",
       "      <td>0.002912</td>\n",
       "      <td>-0.015260</td>\n",
       "      <td>-0.028168</td>\n",
       "      <td>0.046347</td>\n",
       "      <td>-0.001323</td>\n",
       "    </tr>\n",
       "    <tr>\n",
       "      <th>City_Code_Hospital</th>\n",
       "      <td>-0.008247</td>\n",
       "      <td>0.127760</td>\n",
       "      <td>1.000000</td>\n",
       "      <td>-0.045313</td>\n",
       "      <td>-0.048423</td>\n",
       "      <td>0.001617</td>\n",
       "      <td>-0.025153</td>\n",
       "      <td>0.018377</td>\n",
       "      <td>-0.034767</td>\n",
       "      <td>0.001926</td>\n",
       "    </tr>\n",
       "    <tr>\n",
       "      <th>Available Extra Rooms in Hospital</th>\n",
       "      <td>0.023878</td>\n",
       "      <td>-0.058744</td>\n",
       "      <td>-0.045313</td>\n",
       "      <td>1.000000</td>\n",
       "      <td>-0.115303</td>\n",
       "      <td>0.001551</td>\n",
       "      <td>-0.008715</td>\n",
       "      <td>0.095790</td>\n",
       "      <td>-0.143479</td>\n",
       "      <td>0.001942</td>\n",
       "    </tr>\n",
       "    <tr>\n",
       "      <th>Bed Grade</th>\n",
       "      <td>0.011755</td>\n",
       "      <td>-0.015001</td>\n",
       "      <td>-0.048423</td>\n",
       "      <td>-0.115303</td>\n",
       "      <td>1.000000</td>\n",
       "      <td>0.000579</td>\n",
       "      <td>-0.007052</td>\n",
       "      <td>0.089361</td>\n",
       "      <td>0.071705</td>\n",
       "      <td>-0.004567</td>\n",
       "    </tr>\n",
       "    <tr>\n",
       "      <th>patientid</th>\n",
       "      <td>-0.000235</td>\n",
       "      <td>0.002912</td>\n",
       "      <td>0.001617</td>\n",
       "      <td>0.001551</td>\n",
       "      <td>0.000579</td>\n",
       "      <td>1.000000</td>\n",
       "      <td>0.000979</td>\n",
       "      <td>0.002865</td>\n",
       "      <td>0.000033</td>\n",
       "      <td>-0.001574</td>\n",
       "    </tr>\n",
       "    <tr>\n",
       "      <th>City_Code_Patient</th>\n",
       "      <td>0.038053</td>\n",
       "      <td>-0.015260</td>\n",
       "      <td>-0.025153</td>\n",
       "      <td>-0.008715</td>\n",
       "      <td>-0.007052</td>\n",
       "      <td>0.000979</td>\n",
       "      <td>1.000000</td>\n",
       "      <td>-0.012611</td>\n",
       "      <td>0.025665</td>\n",
       "      <td>0.000758</td>\n",
       "    </tr>\n",
       "    <tr>\n",
       "      <th>Visitors with Patient</th>\n",
       "      <td>0.000818</td>\n",
       "      <td>-0.028168</td>\n",
       "      <td>0.018377</td>\n",
       "      <td>0.095790</td>\n",
       "      <td>0.089361</td>\n",
       "      <td>0.002865</td>\n",
       "      <td>-0.012611</td>\n",
       "      <td>1.000000</td>\n",
       "      <td>-0.150008</td>\n",
       "      <td>-0.000112</td>\n",
       "    </tr>\n",
       "    <tr>\n",
       "      <th>Admission_Deposit</th>\n",
       "      <td>-0.029820</td>\n",
       "      <td>0.046347</td>\n",
       "      <td>-0.034767</td>\n",
       "      <td>-0.143479</td>\n",
       "      <td>0.071705</td>\n",
       "      <td>0.000033</td>\n",
       "      <td>0.025665</td>\n",
       "      <td>-0.150008</td>\n",
       "      <td>1.000000</td>\n",
       "      <td>0.004658</td>\n",
       "    </tr>\n",
       "    <tr>\n",
       "      <th>Type</th>\n",
       "      <td>-0.794402</td>\n",
       "      <td>-0.001323</td>\n",
       "      <td>0.001926</td>\n",
       "      <td>0.001942</td>\n",
       "      <td>-0.004567</td>\n",
       "      <td>-0.001574</td>\n",
       "      <td>0.000758</td>\n",
       "      <td>-0.000112</td>\n",
       "      <td>0.004658</td>\n",
       "      <td>1.000000</td>\n",
       "    </tr>\n",
       "  </tbody>\n",
       "</table>\n",
       "</div>"
      ],
      "text/plain": [
       "                                    case_id  Hospital_code  \\\n",
       "case_id                            1.000000      -0.024139   \n",
       "Hospital_code                     -0.024139       1.000000   \n",
       "City_Code_Hospital                -0.008247       0.127760   \n",
       "Available Extra Rooms in Hospital  0.023878      -0.058744   \n",
       "Bed Grade                          0.011755      -0.015001   \n",
       "patientid                         -0.000235       0.002912   \n",
       "City_Code_Patient                  0.038053      -0.015260   \n",
       "Visitors with Patient              0.000818      -0.028168   \n",
       "Admission_Deposit                 -0.029820       0.046347   \n",
       "Type                              -0.794402      -0.001323   \n",
       "\n",
       "                                   City_Code_Hospital  \\\n",
       "case_id                                     -0.008247   \n",
       "Hospital_code                                0.127760   \n",
       "City_Code_Hospital                           1.000000   \n",
       "Available Extra Rooms in Hospital           -0.045313   \n",
       "Bed Grade                                   -0.048423   \n",
       "patientid                                    0.001617   \n",
       "City_Code_Patient                           -0.025153   \n",
       "Visitors with Patient                        0.018377   \n",
       "Admission_Deposit                           -0.034767   \n",
       "Type                                         0.001926   \n",
       "\n",
       "                                   Available Extra Rooms in Hospital  \\\n",
       "case_id                                                     0.023878   \n",
       "Hospital_code                                              -0.058744   \n",
       "City_Code_Hospital                                         -0.045313   \n",
       "Available Extra Rooms in Hospital                           1.000000   \n",
       "Bed Grade                                                  -0.115303   \n",
       "patientid                                                   0.001551   \n",
       "City_Code_Patient                                          -0.008715   \n",
       "Visitors with Patient                                       0.095790   \n",
       "Admission_Deposit                                          -0.143479   \n",
       "Type                                                        0.001942   \n",
       "\n",
       "                                   Bed Grade  patientid  City_Code_Patient  \\\n",
       "case_id                             0.011755  -0.000235           0.038053   \n",
       "Hospital_code                      -0.015001   0.002912          -0.015260   \n",
       "City_Code_Hospital                 -0.048423   0.001617          -0.025153   \n",
       "Available Extra Rooms in Hospital  -0.115303   0.001551          -0.008715   \n",
       "Bed Grade                           1.000000   0.000579          -0.007052   \n",
       "patientid                           0.000579   1.000000           0.000979   \n",
       "City_Code_Patient                  -0.007052   0.000979           1.000000   \n",
       "Visitors with Patient               0.089361   0.002865          -0.012611   \n",
       "Admission_Deposit                   0.071705   0.000033           0.025665   \n",
       "Type                               -0.004567  -0.001574           0.000758   \n",
       "\n",
       "                                   Visitors with Patient  Admission_Deposit  \\\n",
       "case_id                                         0.000818          -0.029820   \n",
       "Hospital_code                                  -0.028168           0.046347   \n",
       "City_Code_Hospital                              0.018377          -0.034767   \n",
       "Available Extra Rooms in Hospital               0.095790          -0.143479   \n",
       "Bed Grade                                       0.089361           0.071705   \n",
       "patientid                                       0.002865           0.000033   \n",
       "City_Code_Patient                              -0.012611           0.025665   \n",
       "Visitors with Patient                           1.000000          -0.150008   \n",
       "Admission_Deposit                              -0.150008           1.000000   \n",
       "Type                                           -0.000112           0.004658   \n",
       "\n",
       "                                       Type  \n",
       "case_id                           -0.794402  \n",
       "Hospital_code                     -0.001323  \n",
       "City_Code_Hospital                 0.001926  \n",
       "Available Extra Rooms in Hospital  0.001942  \n",
       "Bed Grade                         -0.004567  \n",
       "patientid                         -0.001574  \n",
       "City_Code_Patient                  0.000758  \n",
       "Visitors with Patient             -0.000112  \n",
       "Admission_Deposit                  0.004658  \n",
       "Type                               1.000000  "
      ]
     },
     "execution_count": 18,
     "metadata": {},
     "output_type": "execute_result"
    }
   ],
   "source": [
    "corr_matrix = full_data.corr()\n",
    "corr_matrix"
   ]
  },
  {
   "cell_type": "code",
   "execution_count": 19,
   "metadata": {},
   "outputs": [
    {
     "data": {
      "text/plain": [
       "<AxesSubplot:>"
      ]
     },
     "execution_count": 19,
     "metadata": {},
     "output_type": "execute_result"
    },
    {
     "data": {
      "image/png": "[encoded data removed]",
      "text/plain": [
       "<Figure size 576x432 with 2 Axes>"
      ]
     },
     "metadata": {
      "needs_background": "light"
     },
     "output_type": "display_data"
    }
   ],
   "source": [
    "import seaborn as sns\n",
    "f, ax = plt.subplots(figsize=(8,6))\n",
    "sns.heatmap(corr_matrix, vmax=0.8, square=True)"
   ]
  },
  {
   "cell_type": "markdown",
   "metadata": {},
   "source": [
    "From the heat map, we can observe that the variables are not positively correlated. "
   ]
  },
  {
   "cell_type": "code",
   "execution_count": 20,
   "metadata": {},
   "outputs": [
    {
     "data": {
      "image/png": "[encoded data removed]",
      "text/plain": [
       "<Figure size 864x576 with 16 Axes>"
      ]
     },
     "metadata": {
      "needs_background": "light"
     },
     "output_type": "display_data"
    }
   ],
   "source": [
    "from pandas.plotting import scatter_matrix\n",
    "scatter_matrix(full_data[cols], figsize=(12,8))\n",
    "plt.show()"
   ]
  },
  {
   "cell_type": "code",
   "execution_count": 21,
   "metadata": {},
   "outputs": [],
   "source": [
    "cat_vars = ['Hospital_type_code', 'Hospital_region_code', 'Department', 'Ward_Type', 'Ward_Facility_Code','Type of Admission',\n",
    "           'Severity of Illness', 'Age']\n",
    "#cat_encoder = OneHotEncoder()\n",
    "#cat_1Hot = cat_encoder.fit_transform(train[cat_vars]).toarray()\n",
    "#feature_labels = cat_encoder.categories_"
   ]
  },
  {
   "cell_type": "code",
   "execution_count": 22,
   "metadata": {},
   "outputs": [
    {
     "data": {
      "image/png": "[encoded data removed]",
      "text/plain": [
       "<Figure size 432x288 with 1 Axes>"
      ]
     },
     "metadata": {
      "needs_background": "light"
     },
     "output_type": "display_data"
    }
   ],
   "source": [
    "full_data['Hospital_region_code'].value_counts().plot.bar()\n",
    "plt.show()"
   ]
  },
  {
   "cell_type": "code",
   "execution_count": 23,
   "metadata": {},
   "outputs": [
    {
     "data": {
      "image/png": "[encoded data removed]",
      "text/plain": [
       "<Figure size 432x288 with 1 Axes>"
      ]
     },
     "metadata": {
      "needs_background": "light"
     },
     "output_type": "display_data"
    }
   ],
   "source": [
    "full_data['Department'].value_counts().plot.bar()\n",
    "plt.show()"
   ]
  },
  {
   "cell_type": "code",
   "execution_count": 24,
   "metadata": {},
   "outputs": [
    {
     "data": {
      "image/png": "[encoded data removed]",
      "text/plain": [
       "<Figure size 432x288 with 1 Axes>"
      ]
     },
     "metadata": {
      "needs_background": "light"
     },
     "output_type": "display_data"
    }
   ],
   "source": [
    "full_data['Ward_Type'].value_counts().plot.bar()\n",
    "plt.show()"
   ]
  },
  {
   "cell_type": "code",
   "execution_count": 25,
   "metadata": {},
   "outputs": [
    {
     "data": {
      "image/png": "[encoded data removed]",
      "text/plain": [
       "<Figure size 432x288 with 1 Axes>"
      ]
     },
     "metadata": {
      "needs_background": "light"
     },
     "output_type": "display_data"
    }
   ],
   "source": [
    "full_data['Ward_Facility_Code'].value_counts().plot.bar()\n",
    "plt.show()"
   ]
  },
  {
   "cell_type": "code",
   "execution_count": 26,
   "metadata": {},
   "outputs": [
    {
     "data": {
      "image/png": "[encoded data removed]",
      "text/plain": [
       "<Figure size 432x288 with 1 Axes>"
      ]
     },
     "metadata": {
      "needs_background": "light"
     },
     "output_type": "display_data"
    }
   ],
   "source": [
    "full_data['Type of Admission'].value_counts().plot.bar()\n",
    "plt.show()"
   ]
  },
  {
   "cell_type": "code",
   "execution_count": 27,
   "metadata": {},
   "outputs": [
    {
     "data": {
      "image/png": "[encoded data removed]",
      "text/plain": [
       "<Figure size 432x288 with 1 Axes>"
      ]
     },
     "metadata": {
      "needs_background": "light"
     },
     "output_type": "display_data"
    }
   ],
   "source": [
    "full_data['Severity of Illness'].value_counts().plot.bar()\n",
    "plt.show()"
   ]
  },
  {
   "cell_type": "code",
   "execution_count": 28,
   "metadata": {},
   "outputs": [
    {
     "data": {
      "image/png": "[encoded data removed]",
      "text/plain": [
       "<Figure size 432x288 with 1 Axes>"
      ]
     },
     "metadata": {
      "needs_background": "light"
     },
     "output_type": "display_data"
    }
   ],
   "source": [
    "full_data['Age'].value_counts().plot.bar()\n",
    "plt.show()"
   ]
  },
  {
   "cell_type": "code",
   "execution_count": 29,
   "metadata": {},
   "outputs": [
    {
     "data": {
      "image/png": "[encoded data removed]",
      "text/plain": [
       "<Figure size 432x288 with 1 Axes>"
      ]
     },
     "metadata": {
      "needs_background": "light"
     },
     "output_type": "display_data"
    }
   ],
   "source": [
    "full_data['Stay'].value_counts().plot.bar()\n",
    "plt.show()"
   ]
  },
  {
   "cell_type": "code",
   "execution_count": 30,
   "metadata": {},
   "outputs": [],
   "source": [
    "#feature_labels = np.array(feature_labels).ravel()"
   ]
  },
  {
   "cell_type": "code",
   "execution_count": 31,
   "metadata": {},
   "outputs": [],
   "source": [
    "#feature_labels"
   ]
  },
  {
   "cell_type": "code",
   "execution_count": 32,
   "metadata": {},
   "outputs": [],
   "source": [
    "#cat_1Hot"
   ]
  },
  {
   "cell_type": "code",
   "execution_count": 33,
   "metadata": {},
   "outputs": [],
   "source": [
    "#cat_1Hot.shape"
   ]
  },
  {
   "cell_type": "code",
   "execution_count": 34,
   "metadata": {},
   "outputs": [],
   "source": [
    "cat_dummies = pd.get_dummies(full_data[cat_vars], drop_first=True)"
   ]
  },
  {
   "cell_type": "code",
   "execution_count": 35,
   "metadata": {},
   "outputs": [
    {
     "data": {
      "text/html": [
       "<div>\n",
       "<style scoped>\n",
       "    .dataframe tbody tr th:only-of-type {\n",
       "        vertical-align: middle;\n",
       "    }\n",
       "\n",
       "    .dataframe tbody tr th {\n",
       "        vertical-align: top;\n",
       "    }\n",
       "\n",
       "    .dataframe thead th {\n",
       "        text-align: right;\n",
       "    }\n",
       "</style>\n",
       "<table border=\"1\" class=\"dataframe\">\n",
       "  <thead>\n",
       "    <tr style=\"text-align: right;\">\n",
       "      <th></th>\n",
       "      <th>Hospital_type_code_b</th>\n",
       "      <th>Hospital_type_code_c</th>\n",
       "      <th>Hospital_type_code_d</th>\n",
       "      <th>Hospital_type_code_e</th>\n",
       "      <th>Hospital_type_code_f</th>\n",
       "      <th>Hospital_type_code_g</th>\n",
       "      <th>Hospital_region_code_Y</th>\n",
       "      <th>Hospital_region_code_Z</th>\n",
       "      <th>Department_anesthesia</th>\n",
       "      <th>Department_gynecology</th>\n",
       "      <th>...</th>\n",
       "      <th>Severity of Illness_Moderate</th>\n",
       "      <th>Age_11-20</th>\n",
       "      <th>Age_21-30</th>\n",
       "      <th>Age_31-40</th>\n",
       "      <th>Age_41-50</th>\n",
       "      <th>Age_51-60</th>\n",
       "      <th>Age_61-70</th>\n",
       "      <th>Age_71-80</th>\n",
       "      <th>Age_81-90</th>\n",
       "      <th>Age_91-100</th>\n",
       "    </tr>\n",
       "  </thead>\n",
       "  <tbody>\n",
       "    <tr>\n",
       "      <th>0</th>\n",
       "      <td>0</td>\n",
       "      <td>1</td>\n",
       "      <td>0</td>\n",
       "      <td>0</td>\n",
       "      <td>0</td>\n",
       "      <td>0</td>\n",
       "      <td>0</td>\n",
       "      <td>1</td>\n",
       "      <td>0</td>\n",
       "      <td>0</td>\n",
       "      <td>...</td>\n",
       "      <td>0</td>\n",
       "      <td>0</td>\n",
       "      <td>0</td>\n",
       "      <td>0</td>\n",
       "      <td>0</td>\n",
       "      <td>1</td>\n",
       "      <td>0</td>\n",
       "      <td>0</td>\n",
       "      <td>0</td>\n",
       "      <td>0</td>\n",
       "    </tr>\n",
       "    <tr>\n",
       "      <th>1</th>\n",
       "      <td>0</td>\n",
       "      <td>1</td>\n",
       "      <td>0</td>\n",
       "      <td>0</td>\n",
       "      <td>0</td>\n",
       "      <td>0</td>\n",
       "      <td>0</td>\n",
       "      <td>1</td>\n",
       "      <td>0</td>\n",
       "      <td>0</td>\n",
       "      <td>...</td>\n",
       "      <td>0</td>\n",
       "      <td>0</td>\n",
       "      <td>0</td>\n",
       "      <td>0</td>\n",
       "      <td>0</td>\n",
       "      <td>1</td>\n",
       "      <td>0</td>\n",
       "      <td>0</td>\n",
       "      <td>0</td>\n",
       "      <td>0</td>\n",
       "    </tr>\n",
       "    <tr>\n",
       "      <th>2</th>\n",
       "      <td>0</td>\n",
       "      <td>0</td>\n",
       "      <td>0</td>\n",
       "      <td>1</td>\n",
       "      <td>0</td>\n",
       "      <td>0</td>\n",
       "      <td>0</td>\n",
       "      <td>0</td>\n",
       "      <td>1</td>\n",
       "      <td>0</td>\n",
       "      <td>...</td>\n",
       "      <td>0</td>\n",
       "      <td>0</td>\n",
       "      <td>0</td>\n",
       "      <td>0</td>\n",
       "      <td>0</td>\n",
       "      <td>1</td>\n",
       "      <td>0</td>\n",
       "      <td>0</td>\n",
       "      <td>0</td>\n",
       "      <td>0</td>\n",
       "    </tr>\n",
       "    <tr>\n",
       "      <th>3</th>\n",
       "      <td>1</td>\n",
       "      <td>0</td>\n",
       "      <td>0</td>\n",
       "      <td>0</td>\n",
       "      <td>0</td>\n",
       "      <td>0</td>\n",
       "      <td>1</td>\n",
       "      <td>0</td>\n",
       "      <td>0</td>\n",
       "      <td>0</td>\n",
       "      <td>...</td>\n",
       "      <td>0</td>\n",
       "      <td>0</td>\n",
       "      <td>0</td>\n",
       "      <td>0</td>\n",
       "      <td>0</td>\n",
       "      <td>1</td>\n",
       "      <td>0</td>\n",
       "      <td>0</td>\n",
       "      <td>0</td>\n",
       "      <td>0</td>\n",
       "    </tr>\n",
       "    <tr>\n",
       "      <th>4</th>\n",
       "      <td>1</td>\n",
       "      <td>0</td>\n",
       "      <td>0</td>\n",
       "      <td>0</td>\n",
       "      <td>0</td>\n",
       "      <td>0</td>\n",
       "      <td>1</td>\n",
       "      <td>0</td>\n",
       "      <td>0</td>\n",
       "      <td>0</td>\n",
       "      <td>...</td>\n",
       "      <td>0</td>\n",
       "      <td>0</td>\n",
       "      <td>0</td>\n",
       "      <td>0</td>\n",
       "      <td>0</td>\n",
       "      <td>1</td>\n",
       "      <td>0</td>\n",
       "      <td>0</td>\n",
       "      <td>0</td>\n",
       "      <td>0</td>\n",
       "    </tr>\n",
       "  </tbody>\n",
       "</table>\n",
       "<p>5 rows × 35 columns</p>\n",
       "</div>"
      ],
      "text/plain": [
       "   Hospital_type_code_b  Hospital_type_code_c  Hospital_type_code_d  \\\n",
       "0                     0                     1                     0   \n",
       "1                     0                     1                     0   \n",
       "2                     0                     0                     0   \n",
       "3                     1                     0                     0   \n",
       "4                     1                     0                     0   \n",
       "\n",
       "   Hospital_type_code_e  Hospital_type_code_f  Hospital_type_code_g  \\\n",
       "0                     0                     0                     0   \n",
       "1                     0                     0                     0   \n",
       "2                     1                     0                     0   \n",
       "3                     0                     0                     0   \n",
       "4                     0                     0                     0   \n",
       "\n",
       "   Hospital_region_code_Y  Hospital_region_code_Z  Department_anesthesia  \\\n",
       "0                       0                       1                      0   \n",
       "1                       0                       1                      0   \n",
       "2                       0                       0                      1   \n",
       "3                       1                       0                      0   \n",
       "4                       1                       0                      0   \n",
       "\n",
       "   Department_gynecology  ...  Severity of Illness_Moderate  Age_11-20  \\\n",
       "0                      0  ...                             0          0   \n",
       "1                      0  ...                             0          0   \n",
       "2                      0  ...                             0          0   \n",
       "3                      0  ...                             0          0   \n",
       "4                      0  ...                             0          0   \n",
       "\n",
       "   Age_21-30  Age_31-40  Age_41-50  Age_51-60  Age_61-70  Age_71-80  \\\n",
       "0          0          0          0          1          0          0   \n",
       "1          0          0          0          1          0          0   \n",
       "2          0          0          0          1          0          0   \n",
       "3          0          0          0          1          0          0   \n",
       "4          0          0          0          1          0          0   \n",
       "\n",
       "   Age_81-90  Age_91-100  \n",
       "0          0           0  \n",
       "1          0           0  \n",
       "2          0           0  \n",
       "3          0           0  \n",
       "4          0           0  \n",
       "\n",
       "[5 rows x 35 columns]"
      ]
     },
     "execution_count": 35,
     "metadata": {},
     "output_type": "execute_result"
    }
   ],
   "source": [
    "cat_dummies.head()"
   ]
  },
  {
   "cell_type": "code",
   "execution_count": 36,
   "metadata": {},
   "outputs": [],
   "source": [
    "full_data = pd.concat([full_data, cat_dummies], axis=1)"
   ]
  },
  {
   "cell_type": "code",
   "execution_count": 37,
   "metadata": {},
   "outputs": [],
   "source": [
    "full_data.drop(cat_vars, inplace=True, axis=1)"
   ]
  },
  {
   "cell_type": "code",
   "execution_count": 38,
   "metadata": {},
   "outputs": [
    {
     "data": {
      "text/html": [
       "<div>\n",
       "<style scoped>\n",
       "    .dataframe tbody tr th:only-of-type {\n",
       "        vertical-align: middle;\n",
       "    }\n",
       "\n",
       "    .dataframe tbody tr th {\n",
       "        vertical-align: top;\n",
       "    }\n",
       "\n",
       "    .dataframe thead th {\n",
       "        text-align: right;\n",
       "    }\n",
       "</style>\n",
       "<table border=\"1\" class=\"dataframe\">\n",
       "  <thead>\n",
       "    <tr style=\"text-align: right;\">\n",
       "      <th></th>\n",
       "      <th>case_id</th>\n",
       "      <th>Hospital_code</th>\n",
       "      <th>City_Code_Hospital</th>\n",
       "      <th>Available Extra Rooms in Hospital</th>\n",
       "      <th>Bed Grade</th>\n",
       "      <th>patientid</th>\n",
       "      <th>City_Code_Patient</th>\n",
       "      <th>Visitors with Patient</th>\n",
       "      <th>Admission_Deposit</th>\n",
       "      <th>Stay</th>\n",
       "      <th>...</th>\n",
       "      <th>Severity of Illness_Moderate</th>\n",
       "      <th>Age_11-20</th>\n",
       "      <th>Age_21-30</th>\n",
       "      <th>Age_31-40</th>\n",
       "      <th>Age_41-50</th>\n",
       "      <th>Age_51-60</th>\n",
       "      <th>Age_61-70</th>\n",
       "      <th>Age_71-80</th>\n",
       "      <th>Age_81-90</th>\n",
       "      <th>Age_91-100</th>\n",
       "    </tr>\n",
       "  </thead>\n",
       "  <tbody>\n",
       "    <tr>\n",
       "      <th>0</th>\n",
       "      <td>1</td>\n",
       "      <td>8</td>\n",
       "      <td>3</td>\n",
       "      <td>3</td>\n",
       "      <td>2.0</td>\n",
       "      <td>31397</td>\n",
       "      <td>7.0</td>\n",
       "      <td>2</td>\n",
       "      <td>4911.0</td>\n",
       "      <td>0-10</td>\n",
       "      <td>...</td>\n",
       "      <td>0</td>\n",
       "      <td>0</td>\n",
       "      <td>0</td>\n",
       "      <td>0</td>\n",
       "      <td>0</td>\n",
       "      <td>1</td>\n",
       "      <td>0</td>\n",
       "      <td>0</td>\n",
       "      <td>0</td>\n",
       "      <td>0</td>\n",
       "    </tr>\n",
       "    <tr>\n",
       "      <th>1</th>\n",
       "      <td>2</td>\n",
       "      <td>2</td>\n",
       "      <td>5</td>\n",
       "      <td>2</td>\n",
       "      <td>2.0</td>\n",
       "      <td>31397</td>\n",
       "      <td>7.0</td>\n",
       "      <td>2</td>\n",
       "      <td>5954.0</td>\n",
       "      <td>41-50</td>\n",
       "      <td>...</td>\n",
       "      <td>0</td>\n",
       "      <td>0</td>\n",
       "      <td>0</td>\n",
       "      <td>0</td>\n",
       "      <td>0</td>\n",
       "      <td>1</td>\n",
       "      <td>0</td>\n",
       "      <td>0</td>\n",
       "      <td>0</td>\n",
       "      <td>0</td>\n",
       "    </tr>\n",
       "    <tr>\n",
       "      <th>2</th>\n",
       "      <td>3</td>\n",
       "      <td>10</td>\n",
       "      <td>1</td>\n",
       "      <td>2</td>\n",
       "      <td>2.0</td>\n",
       "      <td>31397</td>\n",
       "      <td>7.0</td>\n",
       "      <td>2</td>\n",
       "      <td>4745.0</td>\n",
       "      <td>31-40</td>\n",
       "      <td>...</td>\n",
       "      <td>0</td>\n",
       "      <td>0</td>\n",
       "      <td>0</td>\n",
       "      <td>0</td>\n",
       "      <td>0</td>\n",
       "      <td>1</td>\n",
       "      <td>0</td>\n",
       "      <td>0</td>\n",
       "      <td>0</td>\n",
       "      <td>0</td>\n",
       "    </tr>\n",
       "    <tr>\n",
       "      <th>3</th>\n",
       "      <td>4</td>\n",
       "      <td>26</td>\n",
       "      <td>2</td>\n",
       "      <td>2</td>\n",
       "      <td>2.0</td>\n",
       "      <td>31397</td>\n",
       "      <td>7.0</td>\n",
       "      <td>2</td>\n",
       "      <td>7272.0</td>\n",
       "      <td>41-50</td>\n",
       "      <td>...</td>\n",
       "      <td>0</td>\n",
       "      <td>0</td>\n",
       "      <td>0</td>\n",
       "      <td>0</td>\n",
       "      <td>0</td>\n",
       "      <td>1</td>\n",
       "      <td>0</td>\n",
       "      <td>0</td>\n",
       "      <td>0</td>\n",
       "      <td>0</td>\n",
       "    </tr>\n",
       "    <tr>\n",
       "      <th>4</th>\n",
       "      <td>5</td>\n",
       "      <td>26</td>\n",
       "      <td>2</td>\n",
       "      <td>2</td>\n",
       "      <td>2.0</td>\n",
       "      <td>31397</td>\n",
       "      <td>7.0</td>\n",
       "      <td>2</td>\n",
       "      <td>5558.0</td>\n",
       "      <td>41-50</td>\n",
       "      <td>...</td>\n",
       "      <td>0</td>\n",
       "      <td>0</td>\n",
       "      <td>0</td>\n",
       "      <td>0</td>\n",
       "      <td>0</td>\n",
       "      <td>1</td>\n",
       "      <td>0</td>\n",
       "      <td>0</td>\n",
       "      <td>0</td>\n",
       "      <td>0</td>\n",
       "    </tr>\n",
       "  </tbody>\n",
       "</table>\n",
       "<p>5 rows × 46 columns</p>\n",
       "</div>"
      ],
      "text/plain": [
       "   case_id  Hospital_code  City_Code_Hospital  \\\n",
       "0        1              8                   3   \n",
       "1        2              2                   5   \n",
       "2        3             10                   1   \n",
       "3        4             26                   2   \n",
       "4        5             26                   2   \n",
       "\n",
       "   Available Extra Rooms in Hospital  Bed Grade  patientid  City_Code_Patient  \\\n",
       "0                                  3        2.0      31397                7.0   \n",
       "1                                  2        2.0      31397                7.0   \n",
       "2                                  2        2.0      31397                7.0   \n",
       "3                                  2        2.0      31397                7.0   \n",
       "4                                  2        2.0      31397                7.0   \n",
       "\n",
       "   Visitors with Patient  Admission_Deposit   Stay  ...  \\\n",
       "0                      2             4911.0   0-10  ...   \n",
       "1                      2             5954.0  41-50  ...   \n",
       "2                      2             4745.0  31-40  ...   \n",
       "3                      2             7272.0  41-50  ...   \n",
       "4                      2             5558.0  41-50  ...   \n",
       "\n",
       "   Severity of Illness_Moderate  Age_11-20  Age_21-30  Age_31-40  Age_41-50  \\\n",
       "0                             0          0          0          0          0   \n",
       "1                             0          0          0          0          0   \n",
       "2                             0          0          0          0          0   \n",
       "3                             0          0          0          0          0   \n",
       "4                             0          0          0          0          0   \n",
       "\n",
       "   Age_51-60  Age_61-70  Age_71-80  Age_81-90  Age_91-100  \n",
       "0          1          0          0          0           0  \n",
       "1          1          0          0          0           0  \n",
       "2          1          0          0          0           0  \n",
       "3          1          0          0          0           0  \n",
       "4          1          0          0          0           0  \n",
       "\n",
       "[5 rows x 46 columns]"
      ]
     },
     "execution_count": 38,
     "metadata": {},
     "output_type": "execute_result"
    }
   ],
   "source": [
    "full_data.head()"
   ]
  },
  {
   "cell_type": "code",
   "execution_count": 39,
   "metadata": {},
   "outputs": [
    {
     "data": {
      "text/plain": [
       "2.0    176451\n",
       "3.0    158942\n",
       "4.0     82387\n",
       "1.0     37567\n",
       "Name: Bed Grade, dtype: int64"
      ]
     },
     "execution_count": 39,
     "metadata": {},
     "output_type": "execute_result"
    }
   ],
   "source": [
    "full_data['Bed Grade'].value_counts()"
   ]
  },
  {
   "cell_type": "code",
   "execution_count": 40,
   "metadata": {},
   "outputs": [
    {
     "data": {
      "text/plain": [
       "8.0     176825\n",
       "2.0      55681\n",
       "1.0      37772\n",
       "7.0      33958\n",
       "5.0      28978\n",
       "4.0      22044\n",
       "9.0      16692\n",
       "15.0     12804\n",
       "10.0     11809\n",
       "6.0       8723\n",
       "12.0      8124\n",
       "3.0       5401\n",
       "23.0      5320\n",
       "14.0      4218\n",
       "16.0      3187\n",
       "21.0      2298\n",
       "13.0      2228\n",
       "18.0      2010\n",
       "20.0      1936\n",
       "26.0      1522\n",
       "19.0      1458\n",
       "25.0      1171\n",
       "27.0      1032\n",
       "11.0       933\n",
       "28.0       714\n",
       "22.0       534\n",
       "24.0       514\n",
       "30.0       194\n",
       "29.0       192\n",
       "33.0       121\n",
       "34.0        96\n",
       "32.0        95\n",
       "37.0        78\n",
       "31.0        67\n",
       "35.0        30\n",
       "36.0        29\n",
       "38.0        18\n",
       "Name: City_Code_Patient, dtype: int64"
      ]
     },
     "execution_count": 40,
     "metadata": {},
     "output_type": "execute_result"
    }
   ],
   "source": [
    "full_data['City_Code_Patient'].value_counts(ascending = False)"
   ]
  },
  {
   "cell_type": "code",
   "execution_count": 41,
   "metadata": {},
   "outputs": [],
   "source": [
    "full_data['Bed Grade'] = full_data['Bed Grade'].fillna(full_data['Bed Grade'].median())"
   ]
  },
  {
   "cell_type": "code",
   "execution_count": 42,
   "metadata": {},
   "outputs": [],
   "source": [
    "full_data['City_Code_Patient'] = full_data['City_Code_Patient'].fillna(full_data['City_Code_Patient'].median())"
   ]
  },
  {
   "cell_type": "code",
   "execution_count": 43,
   "metadata": {},
   "outputs": [
    {
     "data": {
      "text/plain": [
       "case_id                                   0\n",
       "Hospital_code                             0\n",
       "City_Code_Hospital                        0\n",
       "Available Extra Rooms in Hospital         0\n",
       "Bed Grade                                 0\n",
       "patientid                                 0\n",
       "City_Code_Patient                         0\n",
       "Visitors with Patient                     0\n",
       "Admission_Deposit                         0\n",
       "Stay                                 137057\n",
       "Type                                      0\n",
       "Hospital_type_code_b                      0\n",
       "Hospital_type_code_c                      0\n",
       "Hospital_type_code_d                      0\n",
       "Hospital_type_code_e                      0\n",
       "Hospital_type_code_f                      0\n",
       "Hospital_type_code_g                      0\n",
       "Hospital_region_code_Y                    0\n",
       "Hospital_region_code_Z                    0\n",
       "Department_anesthesia                     0\n",
       "Department_gynecology                     0\n",
       "Department_radiotherapy                   0\n",
       "Department_surgery                        0\n",
       "Ward_Type_Q                               0\n",
       "Ward_Type_R                               0\n",
       "Ward_Type_S                               0\n",
       "Ward_Type_T                               0\n",
       "Ward_Type_U                               0\n",
       "Ward_Facility_Code_B                      0\n",
       "Ward_Facility_Code_C                      0\n",
       "Ward_Facility_Code_D                      0\n",
       "Ward_Facility_Code_E                      0\n",
       "Ward_Facility_Code_F                      0\n",
       "Type of Admission_Trauma                  0\n",
       "Type of Admission_Urgent                  0\n",
       "Severity of Illness_Minor                 0\n",
       "Severity of Illness_Moderate              0\n",
       "Age_11-20                                 0\n",
       "Age_21-30                                 0\n",
       "Age_31-40                                 0\n",
       "Age_41-50                                 0\n",
       "Age_51-60                                 0\n",
       "Age_61-70                                 0\n",
       "Age_71-80                                 0\n",
       "Age_81-90                                 0\n",
       "Age_91-100                                0\n",
       "dtype: int64"
      ]
     },
     "execution_count": 43,
     "metadata": {},
     "output_type": "execute_result"
    }
   ],
   "source": [
    "full_data.isna().sum()"
   ]
  },
  {
   "cell_type": "code",
   "execution_count": 44,
   "metadata": {},
   "outputs": [],
   "source": [
    "train = full_data[full_data['Type'] == 1]\n",
    "test = full_data[full_data['Type'] != 1]\n",
    "y = train['Stay']\n",
    "train.drop(['Stay', 'Type'], axis=1, inplace=True)\n",
    "test.drop(['Stay', 'Type'], axis=1, inplace=True)"
   ]
  },
  {
   "cell_type": "code",
   "execution_count": 45,
   "metadata": {},
   "outputs": [],
   "source": [
    "# Split the training set into training and test dataset\n",
    "X_train, X_test, y_train, y_test = train_test_split(train, y, test_size=0.2)"
   ]
  },
  {
   "cell_type": "code",
   "execution_count": 46,
   "metadata": {},
   "outputs": [
    {
     "name": "stdout",
     "output_type": "stream",
     "text": [
      "X_train.shape (254750, 44)\n",
      "y_train.shape (254750,)\n",
      "X_test.shape (63688, 44)\n",
      "y_test.shape (63688,)\n"
     ]
    }
   ],
   "source": [
    "print('X_train.shape', X_train.shape)\n",
    "print('y_train.shape', y_train.shape)\n",
    "print('X_test.shape', X_test.shape)\n",
    "print('y_test.shape', y_test.shape)"
   ]
  },
  {
   "cell_type": "code",
   "execution_count": 47,
   "metadata": {},
   "outputs": [
    {
     "name": "stdout",
     "output_type": "stream",
     "text": [
      "<class 'pandas.core.frame.DataFrame'>\n",
      "Int64Index: 254750 entries, 106248 to 215971\n",
      "Data columns (total 44 columns):\n",
      " #   Column                             Non-Null Count   Dtype  \n",
      "---  ------                             --------------   -----  \n",
      " 0   case_id                            254750 non-null  int64  \n",
      " 1   Hospital_code                      254750 non-null  int64  \n",
      " 2   City_Code_Hospital                 254750 non-null  int64  \n",
      " 3   Available Extra Rooms in Hospital  254750 non-null  int64  \n",
      " 4   Bed Grade                          254750 non-null  float64\n",
      " 5   patientid                          254750 non-null  int64  \n",
      " 6   City_Code_Patient                  254750 non-null  float64\n",
      " 7   Visitors with Patient              254750 non-null  int64  \n",
      " 8   Admission_Deposit                  254750 non-null  float64\n",
      " 9   Hospital_type_code_b               254750 non-null  uint8  \n",
      " 10  Hospital_type_code_c               254750 non-null  uint8  \n",
      " 11  Hospital_type_code_d               254750 non-null  uint8  \n",
      " 12  Hospital_type_code_e               254750 non-null  uint8  \n",
      " 13  Hospital_type_code_f               254750 non-null  uint8  \n",
      " 14  Hospital_type_code_g               254750 non-null  uint8  \n",
      " 15  Hospital_region_code_Y             254750 non-null  uint8  \n",
      " 16  Hospital_region_code_Z             254750 non-null  uint8  \n",
      " 17  Department_anesthesia              254750 non-null  uint8  \n",
      " 18  Department_gynecology              254750 non-null  uint8  \n",
      " 19  Department_radiotherapy            254750 non-null  uint8  \n",
      " 20  Department_surgery                 254750 non-null  uint8  \n",
      " 21  Ward_Type_Q                        254750 non-null  uint8  \n",
      " 22  Ward_Type_R                        254750 non-null  uint8  \n",
      " 23  Ward_Type_S                        254750 non-null  uint8  \n",
      " 24  Ward_Type_T                        254750 non-null  uint8  \n",
      " 25  Ward_Type_U                        254750 non-null  uint8  \n",
      " 26  Ward_Facility_Code_B               254750 non-null  uint8  \n",
      " 27  Ward_Facility_Code_C               254750 non-null  uint8  \n",
      " 28  Ward_Facility_Code_D               254750 non-null  uint8  \n",
      " 29  Ward_Facility_Code_E               254750 non-null  uint8  \n",
      " 30  Ward_Facility_Code_F               254750 non-null  uint8  \n",
      " 31  Type of Admission_Trauma           254750 non-null  uint8  \n",
      " 32  Type of Admission_Urgent           254750 non-null  uint8  \n",
      " 33  Severity of Illness_Minor          254750 non-null  uint8  \n",
      " 34  Severity of Illness_Moderate       254750 non-null  uint8  \n",
      " 35  Age_11-20                          254750 non-null  uint8  \n",
      " 36  Age_21-30                          254750 non-null  uint8  \n",
      " 37  Age_31-40                          254750 non-null  uint8  \n",
      " 38  Age_41-50                          254750 non-null  uint8  \n",
      " 39  Age_51-60                          254750 non-null  uint8  \n",
      " 40  Age_61-70                          254750 non-null  uint8  \n",
      " 41  Age_71-80                          254750 non-null  uint8  \n",
      " 42  Age_81-90                          254750 non-null  uint8  \n",
      " 43  Age_91-100                         254750 non-null  uint8  \n",
      "dtypes: float64(3), int64(6), uint8(35)\n",
      "memory usage: 27.9 MB\n"
     ]
    }
   ],
   "source": [
    "X_train.info()"
   ]
  },
  {
   "cell_type": "markdown",
   "metadata": {},
   "source": [
    "<h3>Random Forest</h3>"
   ]
  },
  {
   "cell_type": "code",
   "execution_count": 48,
   "metadata": {},
   "outputs": [],
   "source": [
    "# Use the Random Forest Classifier algorithm\n",
    "rf = RandomForestClassifier(n_estimators=500,max_depth=2, random_state=1)"
   ]
  },
  {
   "cell_type": "code",
   "execution_count": 49,
   "metadata": {},
   "outputs": [
    {
     "name": "stdout",
     "output_type": "stream",
     "text": [
      "(63688, 44) (63688,)\n",
      "Accuracy: 28.70%\n"
     ]
    }
   ],
   "source": [
    "rf.fit(X_train, y_train)\n",
    "y_pred = rf.predict(X_test)\n",
    "print(X_test.shape, y_pred.shape)\n",
    "accuracy = accuracy_score(y_test, y_pred)\n",
    "print(\"Accuracy: %.2f%%\" % (accuracy * 100.0))"
   ]
  },
  {
   "cell_type": "code",
   "execution_count": 50,
   "metadata": {},
   "outputs": [
    {
     "name": "stdout",
     "output_type": "stream",
     "text": [
      "<class 'pandas.core.frame.DataFrame'>\n",
      "Int64Index: 137057 entries, 0 to 137056\n",
      "Data columns (total 44 columns):\n",
      " #   Column                             Non-Null Count   Dtype  \n",
      "---  ------                             --------------   -----  \n",
      " 0   case_id                            137057 non-null  int64  \n",
      " 1   Hospital_code                      137057 non-null  int64  \n",
      " 2   City_Code_Hospital                 137057 non-null  int64  \n",
      " 3   Available Extra Rooms in Hospital  137057 non-null  int64  \n",
      " 4   Bed Grade                          137057 non-null  float64\n",
      " 5   patientid                          137057 non-null  int64  \n",
      " 6   City_Code_Patient                  137057 non-null  float64\n",
      " 7   Visitors with Patient              137057 non-null  int64  \n",
      " 8   Admission_Deposit                  137057 non-null  float64\n",
      " 9   Hospital_type_code_b               137057 non-null  uint8  \n",
      " 10  Hospital_type_code_c               137057 non-null  uint8  \n",
      " 11  Hospital_type_code_d               137057 non-null  uint8  \n",
      " 12  Hospital_type_code_e               137057 non-null  uint8  \n",
      " 13  Hospital_type_code_f               137057 non-null  uint8  \n",
      " 14  Hospital_type_code_g               137057 non-null  uint8  \n",
      " 15  Hospital_region_code_Y             137057 non-null  uint8  \n",
      " 16  Hospital_region_code_Z             137057 non-null  uint8  \n",
      " 17  Department_anesthesia              137057 non-null  uint8  \n",
      " 18  Department_gynecology              137057 non-null  uint8  \n",
      " 19  Department_radiotherapy            137057 non-null  uint8  \n",
      " 20  Department_surgery                 137057 non-null  uint8  \n",
      " 21  Ward_Type_Q                        137057 non-null  uint8  \n",
      " 22  Ward_Type_R                        137057 non-null  uint8  \n",
      " 23  Ward_Type_S                        137057 non-null  uint8  \n",
      " 24  Ward_Type_T                        137057 non-null  uint8  \n",
      " 25  Ward_Type_U                        137057 non-null  uint8  \n",
      " 26  Ward_Facility_Code_B               137057 non-null  uint8  \n",
      " 27  Ward_Facility_Code_C               137057 non-null  uint8  \n",
      " 28  Ward_Facility_Code_D               137057 non-null  uint8  \n",
      " 29  Ward_Facility_Code_E               137057 non-null  uint8  \n",
      " 30  Ward_Facility_Code_F               137057 non-null  uint8  \n",
      " 31  Type of Admission_Trauma           137057 non-null  uint8  \n",
      " 32  Type of Admission_Urgent           137057 non-null  uint8  \n",
      " 33  Severity of Illness_Minor          137057 non-null  uint8  \n",
      " 34  Severity of Illness_Moderate       137057 non-null  uint8  \n",
      " 35  Age_11-20                          137057 non-null  uint8  \n",
      " 36  Age_21-30                          137057 non-null  uint8  \n",
      " 37  Age_31-40                          137057 non-null  uint8  \n",
      " 38  Age_41-50                          137057 non-null  uint8  \n",
      " 39  Age_51-60                          137057 non-null  uint8  \n",
      " 40  Age_61-70                          137057 non-null  uint8  \n",
      " 41  Age_71-80                          137057 non-null  uint8  \n",
      " 42  Age_81-90                          137057 non-null  uint8  \n",
      " 43  Age_91-100                         137057 non-null  uint8  \n",
      "dtypes: float64(3), int64(6), uint8(35)\n",
      "memory usage: 15.0 MB\n"
     ]
    }
   ],
   "source": [
    "test.info()"
   ]
  },
  {
   "cell_type": "code",
   "execution_count": 51,
   "metadata": {},
   "outputs": [
    {
     "data": {
      "text/plain": [
       "case_id                              0\n",
       "Hospital_code                        0\n",
       "City_Code_Hospital                   0\n",
       "Available Extra Rooms in Hospital    0\n",
       "Bed Grade                            0\n",
       "patientid                            0\n",
       "City_Code_Patient                    0\n",
       "Visitors with Patient                0\n",
       "Admission_Deposit                    0\n",
       "Hospital_type_code_b                 0\n",
       "Hospital_type_code_c                 0\n",
       "Hospital_type_code_d                 0\n",
       "Hospital_type_code_e                 0\n",
       "Hospital_type_code_f                 0\n",
       "Hospital_type_code_g                 0\n",
       "Hospital_region_code_Y               0\n",
       "Hospital_region_code_Z               0\n",
       "Department_anesthesia                0\n",
       "Department_gynecology                0\n",
       "Department_radiotherapy              0\n",
       "Department_surgery                   0\n",
       "Ward_Type_Q                          0\n",
       "Ward_Type_R                          0\n",
       "Ward_Type_S                          0\n",
       "Ward_Type_T                          0\n",
       "Ward_Type_U                          0\n",
       "Ward_Facility_Code_B                 0\n",
       "Ward_Facility_Code_C                 0\n",
       "Ward_Facility_Code_D                 0\n",
       "Ward_Facility_Code_E                 0\n",
       "Ward_Facility_Code_F                 0\n",
       "Type of Admission_Trauma             0\n",
       "Type of Admission_Urgent             0\n",
       "Severity of Illness_Minor            0\n",
       "Severity of Illness_Moderate         0\n",
       "Age_11-20                            0\n",
       "Age_21-30                            0\n",
       "Age_31-40                            0\n",
       "Age_41-50                            0\n",
       "Age_51-60                            0\n",
       "Age_61-70                            0\n",
       "Age_71-80                            0\n",
       "Age_81-90                            0\n",
       "Age_91-100                           0\n",
       "dtype: int64"
      ]
     },
     "execution_count": 51,
     "metadata": {},
     "output_type": "execute_result"
    }
   ],
   "source": [
    "test.isnull().sum()"
   ]
  },
  {
   "cell_type": "code",
   "execution_count": 52,
   "metadata": {},
   "outputs": [],
   "source": [
    "pred = rf.predict(test)\n",
    "test['Stay'] = pred"
   ]
  },
  {
   "cell_type": "code",
   "execution_count": 53,
   "metadata": {},
   "outputs": [
    {
     "data": {
      "text/html": [
       "<div>\n",
       "<style scoped>\n",
       "    .dataframe tbody tr th:only-of-type {\n",
       "        vertical-align: middle;\n",
       "    }\n",
       "\n",
       "    .dataframe tbody tr th {\n",
       "        vertical-align: top;\n",
       "    }\n",
       "\n",
       "    .dataframe thead th {\n",
       "        text-align: right;\n",
       "    }\n",
       "</style>\n",
       "<table border=\"1\" class=\"dataframe\">\n",
       "  <thead>\n",
       "    <tr style=\"text-align: right;\">\n",
       "      <th></th>\n",
       "      <th>ID</th>\n",
       "      <th>case_id</th>\n",
       "      <th>Hospital_code</th>\n",
       "      <th>City_Code_Hospital</th>\n",
       "      <th>Available Extra Rooms in Hospital</th>\n",
       "      <th>Bed Grade</th>\n",
       "      <th>patientid</th>\n",
       "      <th>City_Code_Patient</th>\n",
       "      <th>Visitors with Patient</th>\n",
       "      <th>Admission_Deposit</th>\n",
       "      <th>...</th>\n",
       "      <th>Age_11-20</th>\n",
       "      <th>Age_21-30</th>\n",
       "      <th>Age_31-40</th>\n",
       "      <th>Age_41-50</th>\n",
       "      <th>Age_51-60</th>\n",
       "      <th>Age_61-70</th>\n",
       "      <th>Age_71-80</th>\n",
       "      <th>Age_81-90</th>\n",
       "      <th>Age_91-100</th>\n",
       "      <th>Stay</th>\n",
       "    </tr>\n",
       "  </thead>\n",
       "  <tbody>\n",
       "    <tr>\n",
       "      <th>0</th>\n",
       "      <td>case_id</td>\n",
       "      <td>318439</td>\n",
       "      <td>21</td>\n",
       "      <td>3</td>\n",
       "      <td>3</td>\n",
       "      <td>2.0</td>\n",
       "      <td>17006</td>\n",
       "      <td>2.0</td>\n",
       "      <td>2</td>\n",
       "      <td>3095.0</td>\n",
       "      <td>...</td>\n",
       "      <td>0</td>\n",
       "      <td>0</td>\n",
       "      <td>0</td>\n",
       "      <td>0</td>\n",
       "      <td>0</td>\n",
       "      <td>0</td>\n",
       "      <td>1</td>\n",
       "      <td>0</td>\n",
       "      <td>0</td>\n",
       "      <td>21-30</td>\n",
       "    </tr>\n",
       "    <tr>\n",
       "      <th>1</th>\n",
       "      <td>case_id</td>\n",
       "      <td>318440</td>\n",
       "      <td>29</td>\n",
       "      <td>4</td>\n",
       "      <td>2</td>\n",
       "      <td>2.0</td>\n",
       "      <td>17006</td>\n",
       "      <td>2.0</td>\n",
       "      <td>4</td>\n",
       "      <td>4018.0</td>\n",
       "      <td>...</td>\n",
       "      <td>0</td>\n",
       "      <td>0</td>\n",
       "      <td>0</td>\n",
       "      <td>0</td>\n",
       "      <td>0</td>\n",
       "      <td>0</td>\n",
       "      <td>1</td>\n",
       "      <td>0</td>\n",
       "      <td>0</td>\n",
       "      <td>21-30</td>\n",
       "    </tr>\n",
       "    <tr>\n",
       "      <th>2</th>\n",
       "      <td>case_id</td>\n",
       "      <td>318441</td>\n",
       "      <td>26</td>\n",
       "      <td>2</td>\n",
       "      <td>3</td>\n",
       "      <td>4.0</td>\n",
       "      <td>17006</td>\n",
       "      <td>2.0</td>\n",
       "      <td>3</td>\n",
       "      <td>4492.0</td>\n",
       "      <td>...</td>\n",
       "      <td>0</td>\n",
       "      <td>0</td>\n",
       "      <td>0</td>\n",
       "      <td>0</td>\n",
       "      <td>0</td>\n",
       "      <td>0</td>\n",
       "      <td>1</td>\n",
       "      <td>0</td>\n",
       "      <td>0</td>\n",
       "      <td>21-30</td>\n",
       "    </tr>\n",
       "    <tr>\n",
       "      <th>3</th>\n",
       "      <td>case_id</td>\n",
       "      <td>318442</td>\n",
       "      <td>6</td>\n",
       "      <td>6</td>\n",
       "      <td>3</td>\n",
       "      <td>2.0</td>\n",
       "      <td>17006</td>\n",
       "      <td>2.0</td>\n",
       "      <td>3</td>\n",
       "      <td>4173.0</td>\n",
       "      <td>...</td>\n",
       "      <td>0</td>\n",
       "      <td>0</td>\n",
       "      <td>0</td>\n",
       "      <td>0</td>\n",
       "      <td>0</td>\n",
       "      <td>0</td>\n",
       "      <td>1</td>\n",
       "      <td>0</td>\n",
       "      <td>0</td>\n",
       "      <td>21-30</td>\n",
       "    </tr>\n",
       "    <tr>\n",
       "      <th>4</th>\n",
       "      <td>case_id</td>\n",
       "      <td>318443</td>\n",
       "      <td>28</td>\n",
       "      <td>11</td>\n",
       "      <td>2</td>\n",
       "      <td>2.0</td>\n",
       "      <td>17006</td>\n",
       "      <td>2.0</td>\n",
       "      <td>4</td>\n",
       "      <td>4161.0</td>\n",
       "      <td>...</td>\n",
       "      <td>0</td>\n",
       "      <td>0</td>\n",
       "      <td>0</td>\n",
       "      <td>0</td>\n",
       "      <td>0</td>\n",
       "      <td>0</td>\n",
       "      <td>1</td>\n",
       "      <td>0</td>\n",
       "      <td>0</td>\n",
       "      <td>21-30</td>\n",
       "    </tr>\n",
       "  </tbody>\n",
       "</table>\n",
       "<p>5 rows × 46 columns</p>\n",
       "</div>"
      ],
      "text/plain": [
       "        ID  case_id  Hospital_code  City_Code_Hospital  \\\n",
       "0  case_id   318439             21                   3   \n",
       "1  case_id   318440             29                   4   \n",
       "2  case_id   318441             26                   2   \n",
       "3  case_id   318442              6                   6   \n",
       "4  case_id   318443             28                  11   \n",
       "\n",
       "   Available Extra Rooms in Hospital  Bed Grade  patientid  City_Code_Patient  \\\n",
       "0                                  3        2.0      17006                2.0   \n",
       "1                                  2        2.0      17006                2.0   \n",
       "2                                  3        4.0      17006                2.0   \n",
       "3                                  3        2.0      17006                2.0   \n",
       "4                                  2        2.0      17006                2.0   \n",
       "\n",
       "   Visitors with Patient  Admission_Deposit  ...  Age_11-20  Age_21-30  \\\n",
       "0                      2             3095.0  ...          0          0   \n",
       "1                      4             4018.0  ...          0          0   \n",
       "2                      3             4492.0  ...          0          0   \n",
       "3                      3             4173.0  ...          0          0   \n",
       "4                      4             4161.0  ...          0          0   \n",
       "\n",
       "   Age_31-40  Age_41-50  Age_51-60  Age_61-70  Age_71-80  Age_81-90  \\\n",
       "0          0          0          0          0          1          0   \n",
       "1          0          0          0          0          1          0   \n",
       "2          0          0          0          0          1          0   \n",
       "3          0          0          0          0          1          0   \n",
       "4          0          0          0          0          1          0   \n",
       "\n",
       "   Age_91-100   Stay  \n",
       "0           0  21-30  \n",
       "1           0  21-30  \n",
       "2           0  21-30  \n",
       "3           0  21-30  \n",
       "4           0  21-30  \n",
       "\n",
       "[5 rows x 46 columns]"
      ]
     },
     "execution_count": 53,
     "metadata": {},
     "output_type": "execute_result"
    }
   ],
   "source": [
    "test.insert(0,'ID', 'case_id')\n",
    "test.head()"
   ]
  },
  {
   "cell_type": "code",
   "execution_count": 54,
   "metadata": {},
   "outputs": [],
   "source": [
    "# Copy the output with ID and Segmentation to a CSV file\n",
    "test.to_csv(\"patient_length_of_stay.csv\", columns=['case_id', 'Stay'], index=False)"
   ]
  },
  {
   "cell_type": "markdown",
   "metadata": {},
   "source": [
    "<h3>LightGBM</h3>"
   ]
  },
  {
   "cell_type": "code",
   "execution_count": 55,
   "metadata": {},
   "outputs": [],
   "source": [
    "import lightgbm as lgb\n",
    "from lightgbm import LGBMClassifier"
   ]
  },
  {
   "cell_type": "code",
   "execution_count": 56,
   "metadata": {},
   "outputs": [],
   "source": [
    "lgb_clf = LGBMClassifier(max_depth=4, objective='multiclass', random_state=42)\n",
    "#clf2 = lgb.LGBMClassifier(boosting_type='gbdt', num_leaves=80, min_data_in_leaf=307, max_iter=1000, max_depth=7, learning_rate=0.1)\n",
    "#rf = LGBMClassifier(learning_rate=0.02,\n",
    "#                    boosting_type='gbdt', max_depth=4,  objective='multiclass', \n",
    "#                    random_state=100,  \n",
    "#                  n_estimators=1000 ,reg_alpha=0, reg_lambda=1, n_jobs=-1)"
   ]
  },
  {
   "cell_type": "code",
   "execution_count": 57,
   "metadata": {},
   "outputs": [
    {
     "name": "stdout",
     "output_type": "stream",
     "text": [
      "(63688, 44) (63688,)\n",
      "Accuracy: 42.04%\n"
     ]
    }
   ],
   "source": [
    "lgb_clf.fit(X_train, y_train)\n",
    "y_pred = lgb_clf.predict(X_test)\n",
    "print(X_test.shape, y_pred.shape)\n",
    "accuracy = accuracy_score(y_test, y_pred)\n",
    "print(\"Accuracy: %.2f%%\" % (accuracy * 100.0))"
   ]
  },
  {
   "cell_type": "markdown",
   "metadata": {},
   "source": [
    "<h3>Support Vector Classifier</h3>"
   ]
  },
  {
   "cell_type": "code",
   "execution_count": 58,
   "metadata": {},
   "outputs": [],
   "source": [
    "svc_clf = SVC()"
   ]
  },
  {
   "cell_type": "code",
   "execution_count": null,
   "metadata": {},
   "outputs": [],
   "source": [
    "svc_clf.fit(X_train, y_train)\n",
    "y_pred = svc_clf.predict(X_test)\n",
    "print(X_test.shape, y_pred.shape)\n",
    "accuracy = accuracy_score(y_test, y_pred)\n",
    "print(\"Accuracy: %.2f%%\" % (accuracy * 100.0))"
   ]
  },
  {
   "cell_type": "code",
   "execution_count": null,
   "metadata": {},
   "outputs": [],
   "source": []
  }
 ],
 "metadata": {
  "kernelspec": {
   "display_name": "python3.6",
   "language": "python",
   "name": "python3.6"
  },
  "language_info": {
   "codemirror_mode": {
    "name": "ipython",
    "version": 3
   },
   "file_extension": ".py",
   "mimetype": "text/x-python",
   "name": "python",
   "nbconvert_exporter": "python",
   "pygments_lexer": "ipython3",
   "version": "3.6.3"
  }
 },
 "nbformat": 4,
 "nbformat_minor": 2
}
